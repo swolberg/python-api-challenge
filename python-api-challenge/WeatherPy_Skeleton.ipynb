{
 "cells": [
  {
   "cell_type": "code",
   "execution_count": null,
   "metadata": {},
   "outputs": [],
   "source": [
    "#pip install citipy"
   ]
  },
  {
   "cell_type": "code",
   "execution_count": 1,
   "metadata": {
    "scrolled": true
   },
   "outputs": [],
   "source": [
    "# Import libraries and api keys\n",
    "import matplotlib.pyplot as plt\n",
    "import pandas as pd\n",
    "import numpy as np\n",
    "import requests\n",
    "import time\n",
    "from scipy.stats import linregress\n",
    "from citipy import citipy\n",
    "\n",
    "# API key for openweathermaps\n",
    "from api_keys import weather_api_key"
   ]
  },
  {
   "cell_type": "code",
   "execution_count": 2,
   "metadata": {},
   "outputs": [
    {
     "name": "stdout",
     "output_type": "stream",
     "text": [
      "590\n",
      "['adamstown', 'jinghong', 'taulaga', 'bethel', 'gaspe', 'constantia', 'tsiombe', 'berezovyy', 'iskateley', 'port mathurin', 'abepura', 'nagqu', 'shelbyville', 'jamestown', 'taiohae', 'garissa', 'port-aux-francais', 'kodiak', 'isafjordur', 'walvis bay', 'zhanjiang', 'waitangi', 'hammerfest', 'idri', 'ripky', 'margaret river', 'mejit', 'ta`u', 'schonkirchen', 'port alfred', \"la'ie\", 'gilgit', 'yellowknife', 'west island', 'olonkinbyen', 'ushuaia', 'grytviken', 'san felipe', 'guerrero negro', 'akropong', 'crane', 'san jose de feliciano', 'san antonio de pale', 'edinburgh of the seven seas', 'saint-francois', 'coahuayana de hidalgo', 'puerto natales', 'al jawf', 'saudarkrokur', 'shimanovsk', 'ust-nera', 'tiksi', 'klyuchi', 'pandaria', 'kindu', 'port elizabeth', 'uturoa', 'albany', 'yuzhno-kurilsk', 'markapur', 'east london', 'ilulissat', 'flying fish cove', 'mata-utu', 'saipan', 'haiku-pauwela', 'yamada', 'nayoro', 'la ronge', 'stanley', 'puerto san carlos', 'tangalle', 'alvaraes', 'betio village', 'gbarnga', 'daugavgriva', 'hilo', 'turpan', 'kaltan', 'guatire', 'hermanus', 'cabo san lucas', 'punta arenas', 'vadso', 'port macquarie', 'wongsorejo', 'villa gesell', 'avarua', 'kristiansund', 'pahrump', 'alghero', 'zaozersk', 'tralee', 'greymouth', 'darab', 'valparaiso', 'tam ky', 'lebu', 'invercargill', 'ponnani', 'sidney', 'laascaanood', 'udachny', 'lompoc', 'dzhangala', 'rozhyshche', \"nevel'sk\", 'susuman', 'hawaiian paradise park', 'siler city', 'badger', 'egilsstadir', 'colonia', 'funafuti', 'nguigmi', 'toliara', 'hami', 'carnarvon', \"ust'-uda\", 'petropavlovsk-kamchatsky', 'ribeira grande', 'adam', 'port-gentil', 'keflavik', 'formosa do rio preto', 'blackmans bay', 'karasu', 'oranjemund', 'murzuq', 'vico del gargano', 'fada', 'happy valley-goose bay', 'bilibino', 'whitehorse', 'kyadabek', 'seymour', 'luena', 'saint-joseph', \"st. john's\", 'atafu village', 'guelmim', 'hithadhoo', 'puerto ayora', 'usakos', 'iqaluit', 'at taj', 'mandimba', 'villa alberto andres alvarado aramburo', 'kardla', 'usinsk', 'namibe', 'ocean pointe', 'akureyri', 'myeik', 'weno', 'lazaro cardenas', 'baracoa', 'kailua-kona', 'kill devil hills', 'khoyniki', 'urengoy', 'asadabad', 'springfield', 'pisco', 'kayes', 'ostersund', 'azle', 'hihifo', 'malumfashi', 'port blair', 'pemangkat', 'kharp', 'sevierville', 'wailua homesteads', 'saint-philippe', 'itoman', 'qaqortoq', 'yaguajay', 'howard springs', 'brisas de zicatela', 'kapit', 'alofi', \"kapa'a\", 'ancud', 'taman rajawali', \"sovetskaya gavan'\", 'rongelap', 'vuktyl', 'lihue', 'sandacho', 'kolonia', 'vilyuchinsk', 'papatowai', 'callao', 'talcahuano', 'college', 'utrik', 'bikenibeu village', 'sodankyla', 'mount gambier', 'khanjarah', 'oxapampa', \"hayma'\", 'gadzhiyevo', 'tazovsky', 'cockburn town', 'georgetown', 'vilyuysk', 'collie', 'yangambi', 'mansa', 'mokhsogollokh', 'cole harbour', 'greenland', 'kavieng', 'cadale', 'ceeldheer', 'winters', \"nar'yan-mar\", 'remire-montjoly', 'kabalo', 'ambon', 'wildwood', 'orosei', 'port lincoln', 'hamilton', 'aykhal', 'krems an der donau', 'florence', 'talnakh', 'archidona', 'thompson', 'codrington', 'nemuro', 'piton saint-leu', 'devinuwara', 'sahab', 'kuchera', 'ponta delgada', 'caribou', 'mufumbwe', 'la passe', 'enewetak', 'hadibu', 'tionk essil', 'neryungri', 'murghob', 'tongchuanshi', 'queenstown', 'wattegama', 'port augusta', \"al 'alamayn\", 'san patricio', 'khovd', 'pangkalanbuun', 'vernon', 'lata', 'khanabad', 'alpine', 'sur', 'amga', 'nishinoomote', 'chemolgan', 'belyy yar', 'vorgashor', 'kataysk', 'santa cruz', 'anadyr', 'longyearbyen', 'afaahiti', 'rosedale', 'island harbour', 'palmer', 'pinoso', 'kerikeri', 'fuzesabony', 'viana do castelo', 'alta', 'tamandare', 'toropets', 'bredasdorp', 'antsiranana', 'kysucke nove mesto', 'kirensk', 'charters towers', 'newman', 'salalah', 'nuuk', 'raduzhny', 'serov', 'tolanaro', 'sabang', 'mentekab', 'luchegorsk', 'sianow', 'goondiwindi', 'tranovaho', 'tshabong', 'ji parana', 'lubang', 'celestun', 'onega', 'steinkjer', 'phek', 'bashmakovo', 'hasaki', 'acapulco de juarez', 'juan griego', 'kongsberg', 'sao joao da barra', \"nuku'alofa\", 'pauini', 'mitrofanovka', 'san ignacio de velasco', 'katabu', 'new norfolk', 'belokurikha', 'sola', 'swakopmund', 'luancheng', 'aasiaat', 'kingston', 'narayanpet', 'timbuktu', 'lerwick', 'princeville', 'paulinia', 'homer', 'touros', 'nova sintra', 'manglaur', 'mbandaka', 'lucas', 'gamba', 'tamanrasset', 'gisborne', 'murgab', 'burgersdorp', 'sao miguel do araguaia', 'gejiu', 'zheleznodorozhnyy', 'mount pearl', 'six-fours-les-plages', 'coyhaique', 'rawson', 'orange cove', 'kalifornsky', 'magadan', 'belmonte', 'sanming', 'le port', 'port moresby', 'tanout', 'oodweyne', 'kanniyakumari', 'thunder bay', 'mulchen', 'ankazoabo', 'gizo', 'dolores', 'antofagasta', 'brazzaville', 'cidreira', 'agadez', 'mezhdurechenskiy', 'kapuskasing', 'jaisalmer', 'balnearia', 'alto barinas', 'borogontsy', 'minas de marcona', 'ar ruways', 'san sebastian de la gomera', 'quixeramobim', 'grand falls-windsor', 'san luis de la loma', 'qusar', 'yeppoon', 'freetown', \"'ohonua\", 'punaauia', 'sidrolandia', 'koulikoro', 'mayahi', 'pirapora', 'ed damer', 'malango', 'polyarnyy', 'patong', 'bayan nur', 'cangucu', 'uryupinsk', 'nabire', 'kangding', 'pacific grove', 'oranjestad', 'warud', 'labrador city', 'bandar-e genaveh', 'sitka', 'brownsville', 'ba', 'letpandan', 'fale old settlement', 'kismayo', 'la sarre', 'hengchun', 'jining', 'olgii', 'corner brook', 'mirabad', 'ariquemes', 'tura', 'quellon', 'umm kaddadah', \"ust'-kut\", 'borujen', 'foumban', 'leava', 'coquimbo', 'metahara', 'ulsteinvik', 'karatas', 'portland', 'inarajan village', 'beira', 'villa ocampo', 'maputo', 'banda aceh', 'baturaja', 'neiafu', 'tabou', 'konstantinovsk', 'sinjai', 'sadjoavato', 'backa palanka', 'kimbe', 'dongola', 'garbahaarrey', 'laojunmiao', 'kalmunai', 'port glaud', 'wuyishan', 'oroqen zizhiqi', 'morehead city', 'marka', 'williams lake', 'sinop', 'igarka', 'keila', 'forster', 'vero beach', 'jiexiu', 'lamu', 'geraldton', 'ketchikan', 'at turrah', 'broome', 'sao gabriel da cachoeira', 'vingt cinq', 'sibolga', 'olyokminsk', 'kyshtovka', 'lefkada', 'ofunato', 'richfield', 'palikir - national government center', 'hobyo', 'los llanos de aridane', 'lieksa', 'sambava', 'mount pleasant', 'khromtau', 'tocopilla', 'baringo', 'makungu', 'itaituba', 'skvyra', 'zuera', 'arraial do cabo', 'jatoba', 'playa del ingles', 'novogornyy', 'kuta', 'okhotsk', 'an nuhud', 'kushnarenkovo', 'ciudad lazaro cardenas', 'tindouf', 'vetluga', 'ishigaki', 'karpinsk', 'barah', 'sao joao dos patos', 'arawa', 'sanford', 'pyin oo lwin', 'dickinson', 'tanabe', 'impfondo', 'prince rupert', 'punta del este', 'carutapera', 'khorinsk', 'bandarbeyla', 'fisterra', 'sattahip', 'shevchenko', 'sao felix do xingu', 'sisimiut', 'chamzinka', 'lubango', 'yangor', 'erie', 'burang', 'mahina', 'pauls valley', 'emerald', 'broadstairs', 'winnemucca', 'hecun', 'giyani', 'porto novo', 'dedenevo', 'krasnokamensk', 'goz beida', 'yishui', 'dudinka', 'xilin hot', 'maintirano', 'port-vila', 'puerto aysen', 'tomohon', 'kodinsk', 'krasnoarmeysk', 'glencoe', 'mayma', 'nkurenkuru', 'freeport', 'vic-en-bigorre', 'paidha', 'aldinga beach', 'sungai penuh', 'fonadhoo', 'kitimat', 'yorkton', 'surgut', 'paimio', 'argo', 'tidjikja', 'laayoune', 'chu', 'yei', 'boende', 'tbeng meanchey', 'antalaha', 'divrigi', 'dabeiba', 'midvagur', 'shakawe', 'napili-honokowai', \"lyepyel'\", 'manokwari', 'flin flon', 'robertsport', 'heber springs', 'cannonvale', 'hatillo', 'mugia', 'las khorey', 'tonj', 'rabaul', 'buka', 'fauske', 'tughyl', 'soio', 'boromo', 'kone', 'mwene-ditu', 'paghman', 'reggane', 'zhalantun', 'larache', 'greenville', 'pangody', 'wenatchee', 'karasburg', 'viedma', 'shenjiamen', 'kingscliff']\n"
     ]
    }
   ],
   "source": [
    "# Generate a list of cities by randomly arranging longitude and latitudes\n",
    "\n",
    "# Empty lists\n",
    "lat_lngs = []\n",
    "cities = []\n",
    "\n",
    "# Range of latitudes and longitudes\n",
    "lat_range = (-90, 90)\n",
    "lng_range = (-180, 180)\n",
    "\n",
    "np.random.seed(1234)\n",
    "\n",
    "# Pull 1500 random samples of lat and lng\n",
    "lats = np.random.uniform(lat_range[0], lat_range[1], size=1500)\n",
    "lngs = np.random.uniform(lng_range[0], lng_range[1], size=1500)\n",
    "lat_lngs = zip(lats, lngs)\n",
    "\n",
    "# Translate lat and lngs to cities\n",
    "for i in lat_lngs:\n",
    "    city = citipy.nearest_city(i[0], i[1]).city_name\n",
    "    \n",
    "    # Keep only if city name is unique\n",
    "    if city not in cities:\n",
    "        cities.append(city)\n",
    "\n",
    "# Print count and city names\n",
    "print(len(cities))\n",
    "print(cities)"
   ]
  },
  {
   "cell_type": "code",
   "execution_count": null,
   "metadata": {},
   "outputs": [
    {
     "name": "stdout",
     "output_type": "stream",
     "text": [
      "Processing Record 1 of Set 1 | adamstown\n",
      "Processing Record 2 of Set 1 | jinghong\n",
      "Processing Record 3 of Set 1 | taulaga\n",
      "Processing Record 4 of Set 1 | bethel\n",
      "Processing Record 5 of Set 1 | gaspe\n",
      "Processing Record 6 of Set 1 | constantia\n",
      "Processing Record 7 of Set 1 | tsiombe\n",
      "Processing Record 8 of Set 1 | berezovyy\n",
      "Processing Record 9 of Set 1 | iskateley\n",
      "Processing Record 10 of Set 1 | port mathurin\n",
      "Processing Record 11 of Set 1 | abepura\n",
      "Processing Record 12 of Set 1 | nagqu\n",
      "Processing Record 13 of Set 1 | shelbyville\n",
      "Processing Record 14 of Set 1 | jamestown\n",
      "Processing Record 15 of Set 1 | taiohae\n",
      "City not found. Skipping...\n",
      "Processing Record 16 of Set 1 | garissa\n",
      "Processing Record 17 of Set 1 | port-aux-francais\n",
      "Processing Record 18 of Set 1 | kodiak\n",
      "Processing Record 19 of Set 1 | isafjordur\n",
      "Processing Record 20 of Set 1 | walvis bay\n",
      "Processing Record 21 of Set 1 | zhanjiang\n",
      "Processing Record 22 of Set 1 | waitangi\n",
      "Processing Record 23 of Set 1 | hammerfest\n",
      "Processing Record 24 of Set 1 | idri\n",
      "Processing Record 25 of Set 1 | ripky\n",
      "Processing Record 26 of Set 1 | margaret river\n",
      "Processing Record 27 of Set 1 | mejit\n",
      "Processing Record 28 of Set 1 | ta`u\n",
      "Processing Record 29 of Set 1 | schonkirchen\n",
      "Processing Record 30 of Set 1 | port alfred\n",
      "Processing Record 31 of Set 1 | la'ie\n",
      "Processing Record 32 of Set 1 | gilgit\n",
      "Processing Record 33 of Set 1 | yellowknife\n",
      "Processing Record 34 of Set 1 | west island\n",
      "Processing Record 35 of Set 1 | olonkinbyen\n",
      "Processing Record 36 of Set 1 | ushuaia\n",
      "Processing Record 37 of Set 1 | grytviken\n",
      "Processing Record 38 of Set 1 | san felipe\n",
      "Processing Record 39 of Set 1 | guerrero negro\n",
      "Processing Record 40 of Set 1 | akropong\n",
      "Processing Record 41 of Set 1 | crane\n",
      "Processing Record 42 of Set 1 | san jose de feliciano\n",
      "Processing Record 43 of Set 1 | san antonio de pale\n",
      "Processing Record 44 of Set 1 | edinburgh of the seven seas\n",
      "Processing Record 45 of Set 1 | saint-francois\n",
      "Processing Record 46 of Set 1 | coahuayana de hidalgo\n",
      "Processing Record 47 of Set 1 | puerto natales\n",
      "Processing Record 48 of Set 1 | al jawf\n",
      "Processing Record 49 of Set 1 | saudarkrokur\n",
      "Processing Record 50 of Set 1 | shimanovsk\n",
      "Processing Record 0 of Set 2 | ust-nera\n",
      "Processing Record 1 of Set 2 | tiksi\n",
      "Processing Record 2 of Set 2 | klyuchi\n",
      "Processing Record 3 of Set 2 | pandaria\n",
      "Processing Record 4 of Set 2 | kindu\n",
      "Processing Record 5 of Set 2 | port elizabeth\n",
      "Processing Record 6 of Set 2 | uturoa\n",
      "Processing Record 7 of Set 2 | albany\n",
      "Processing Record 8 of Set 2 | yuzhno-kurilsk\n",
      "Processing Record 9 of Set 2 | markapur\n",
      "Processing Record 10 of Set 2 | east london\n",
      "Processing Record 11 of Set 2 | ilulissat\n",
      "Processing Record 12 of Set 2 | flying fish cove\n",
      "Processing Record 13 of Set 2 | mata-utu\n",
      "Processing Record 14 of Set 2 | saipan\n",
      "Processing Record 15 of Set 2 | haiku-pauwela\n",
      "Processing Record 16 of Set 2 | yamada\n",
      "Processing Record 17 of Set 2 | nayoro\n",
      "Processing Record 18 of Set 2 | la ronge\n",
      "Processing Record 19 of Set 2 | stanley\n",
      "Processing Record 20 of Set 2 | puerto san carlos\n",
      "City not found. Skipping...\n",
      "Processing Record 21 of Set 2 | tangalle\n",
      "Processing Record 22 of Set 2 | alvaraes\n",
      "Processing Record 23 of Set 2 | betio village\n",
      "Processing Record 24 of Set 2 | gbarnga\n",
      "Processing Record 25 of Set 2 | daugavgriva\n",
      "Processing Record 26 of Set 2 | hilo\n",
      "Processing Record 27 of Set 2 | turpan\n",
      "Processing Record 28 of Set 2 | kaltan\n",
      "Processing Record 29 of Set 2 | guatire\n",
      "Processing Record 30 of Set 2 | hermanus\n",
      "Processing Record 31 of Set 2 | cabo san lucas\n",
      "Processing Record 32 of Set 2 | punta arenas\n",
      "Processing Record 33 of Set 2 | vadso\n",
      "Processing Record 34 of Set 2 | port macquarie\n",
      "Processing Record 35 of Set 2 | wongsorejo\n",
      "Processing Record 36 of Set 2 | villa gesell\n",
      "Processing Record 37 of Set 2 | avarua\n",
      "Processing Record 38 of Set 2 | kristiansund\n",
      "Processing Record 39 of Set 2 | pahrump\n",
      "Processing Record 40 of Set 2 | alghero\n",
      "Processing Record 41 of Set 2 | zaozersk\n",
      "Processing Record 42 of Set 2 | tralee\n",
      "Processing Record 43 of Set 2 | greymouth\n",
      "Processing Record 44 of Set 2 | darab\n",
      "Processing Record 45 of Set 2 | valparaiso\n"
     ]
    }
   ],
   "source": [
    "# Compile weather data using OpenWeatherMap api\n",
    "\n",
    "# Base URL\n",
    "url = \"http://api.openweathermap.org/data/2.5/weather?units=Metric&APPID=\" + weather_api_key\n",
    "\n",
    "# Initialize list\n",
    "city_data = []\n",
    "\n",
    "# Create counters\n",
    "record_count = 1\n",
    "set_count = 1\n",
    "\n",
    "# Loop through all cities\n",
    "for i, city in enumerate(cities):\n",
    "        \n",
    "    # Group cities in sets of 50 \n",
    "    if (i % 50 == 0 and i >= 50):\n",
    "        set_count += 1\n",
    "        record_count = 0\n",
    "\n",
    "    # Build url to send request\n",
    "    city_url = url + \"&q=\" + city\n",
    "    \n",
    "    # Log the url, record, and set numbers\n",
    "    print(\"Processing Record %s of Set %s | %s\" % (record_count, set_count, city))\n",
    "    \n",
    "    # Increment count\n",
    "    record_count += 1\n",
    "\n",
    "    # For each of the cities\n",
    "    try:\n",
    "        # Send request\n",
    "        city_weather = requests.get(city_url).json()\n",
    "\n",
    "        # Receive data from api\n",
    "        city_lat = city_weather[\"coord\"][\"lat\"]\n",
    "        city_lng = city_weather[\"coord\"][\"lon\"]\n",
    "        city_max_temp = city_weather[\"main\"][\"temp_max\"]\n",
    "        city_humidity = city_weather[\"main\"][\"humidity\"]\n",
    "        city_clouds = city_weather[\"clouds\"][\"all\"]\n",
    "        city_wind = city_weather[\"wind\"][\"speed\"]\n",
    "        city_country = city_weather[\"sys\"][\"country\"]\n",
    "        city_date = city_weather[\"dt\"]\n",
    "\n",
    "        # Append data to list\n",
    "        city_data.append({\"City\": city, \n",
    "                          \"Lat\": city_lat, \n",
    "                          \"Lng\": city_lng, \n",
    "                          \"Max Temp\": city_max_temp,\n",
    "                          \"Humidity\": city_humidity,\n",
    "                          \"Cloudiness\": city_clouds,\n",
    "                          \"Wind Speed\": city_wind,\n",
    "                          \"Country\": city_country,\n",
    "                          \"Date\": city_date})\n",
    "    # Error handling\n",
    "    except:\n",
    "        print(\"City not found. Skipping...\")\n",
    "        pass\n",
    "    \n",
    "    # pause to avoid rate limiting\n",
    "    time.sleep(1)\n",
    "\n",
    "# Indicate that Data Loading is complete\n",
    "print(\"-----------------------------\")\n",
    "print(\"Data Retrieval Complete      \")\n",
    "print(\"-----------------------------\")"
   ]
  },
  {
   "cell_type": "code",
   "execution_count": null,
   "metadata": {},
   "outputs": [],
   "source": [
    "# Convert to dataframe\n",
    "city_data_df = pd.DataFrame(city_data)\n",
    "\n",
    "print(city_data_df.count())"
   ]
  },
  {
   "cell_type": "code",
   "execution_count": null,
   "metadata": {},
   "outputs": [],
   "source": [
    "# Top five\n",
    "city_data_df.head()"
   ]
  },
  {
   "cell_type": "code",
   "execution_count": null,
   "metadata": {},
   "outputs": [],
   "source": [
    "# Export to csv\n",
    "city_data_df.to_csv(\"cities.csv\", index_label=\"City_ID\")"
   ]
  },
  {
   "cell_type": "code",
   "execution_count": null,
   "metadata": {},
   "outputs": [],
   "source": [
    "# Read back data\n",
    "city_data_df = pd.read_csv(\"cities.csv\", index_col=\"City_ID\")\n",
    "\n",
    "# Display head\n",
    "city_data_df.head()"
   ]
  },
  {
   "cell_type": "code",
   "execution_count": null,
   "metadata": {
    "tags": []
   },
   "outputs": [],
   "source": [
    "# Associate Latitude and temperature\n",
    "\n",
    "plt.scatter(     \n",
    "    city_data_df[\"Lat\"],\n",
    "    city_data_df[\"Max Temp\"],\n",
    "    edgecolor=\"black\",\n",
    "    linewidths=1,\n",
    "    marker=\"o\", \n",
    "    alpha=0.8,\n",
    "    label=\"Cities\"\n",
    ")\n",
    "\n",
    "# Augment\n",
    "plt.title(\"City Max Latitude vs. Temperature (%s)\" % time.strftime(\"%Y-%m-%d\"))\n",
    "plt.xlabel(\"Latitude\")\n",
    "plt.ylabel(\"Max Temperature (C)\")\n",
    "plt.grid(True)\n",
    "\n",
    "# Save \n",
    "plt.savefig(\"Temp_vs_Lat.png\")\n",
    "\n",
    "# Show plot\n",
    "plt.show()"
   ]
  },
  {
   "cell_type": "code",
   "execution_count": null,
   "metadata": {},
   "outputs": [],
   "source": [
    "# Associate Latitude and humidity\n",
    "\n",
    "plt.scatter(     \n",
    "    city_data_df[\"Lat\"],\n",
    "    city_data_df[\"Humidity\"],\n",
    "    edgecolor=\"black\",\n",
    "    linewidths=1,\n",
    "    marker=\"o\", \n",
    "    alpha=0.8,\n",
    "    label=\"Cities\"\n",
    ")\n",
    "\n",
    "# Augment\n",
    "plt.title(\"City Latitude vs. Humidity (%s)\" % time.strftime(\"%Y-%m-%d\"))\n",
    "plt.xlabel(\"Latitude\")\n",
    "plt.ylabel(\"Humidity (%)\")\n",
    "plt.grid(True)\n",
    "\n",
    "# Save\n",
    "plt.savefig(\"Humidity_vs_Lat.png\")\n",
    "\n",
    "# Show plot\n",
    "plt.show()"
   ]
  },
  {
   "cell_type": "code",
   "execution_count": null,
   "metadata": {},
   "outputs": [],
   "source": [
    "# Associate Latitude and cloudiness\n",
    "\n",
    "plt.scatter(\n",
    "    city_data_df[\"Lat\"],\n",
    "    city_data_df[\"Cloudiness\"],\n",
    "    edgecolor=\"black\",\n",
    "    linewidths=1,\n",
    "    marker=\"o\", \n",
    "    alpha=0.8,\n",
    "    label=\"Cities\"\n",
    ")\n",
    "\n",
    "# Augment\n",
    "plt.title(\"City Latitude vs. Cloudiness (%s)\" % time.strftime(\"%Y-%m-%d\"))\n",
    "plt.xlabel(\"Latitude\")\n",
    "plt.ylabel(\"Cloudiness (%)\")\n",
    "plt.grid(True)\n",
    "\n",
    "# Save \n",
    "plt.savefig(\"Cloudiness_vs_Lat.png\")\n",
    "\n",
    "# Show plot\n",
    "plt.show()"
   ]
  },
  {
   "cell_type": "code",
   "execution_count": null,
   "metadata": {},
   "outputs": [],
   "source": [
    "# Associate Latitude and wind speed\n",
    "\n",
    "plt.scatter(\n",
    "    city_data_df[\"Lat\"], \n",
    "    city_data_df[\"Wind Speed\"],\n",
    "    edgecolor=\"black\", \n",
    "    linewidths=1, \n",
    "    marker=\"o\", \n",
    "    alpha=0.8,\n",
    "    label=\"Cities\"\n",
    ")\n",
    "\n",
    "# Augment\n",
    "plt.title(\"City Latitude vs. Wind Speed (%s)\" % time.strftime(\"%Y-%m-%d\"))\n",
    "plt.ylabel(\"Wind Speed (m/s)\")\n",
    "plt.xlabel(\"Latitude\")\n",
    "plt.grid(True)\n",
    "\n",
    "# Save\n",
    "plt.savefig(\"Windspeed_vs_Lat.png\")\n",
    "\n",
    "# Show plot\n",
    "plt.show()"
   ]
  },
  {
   "cell_type": "code",
   "execution_count": null,
   "metadata": {},
   "outputs": [],
   "source": [
    "# Regression analysis for each of the pairs above.\n",
    "\n",
    "# Define a function\n",
    "def plot_linear_regression(x_values, y_values, title, text_coordinates):\n",
    "    \n",
    "    # Compute linear regression\n",
    "    (slope, intercept, rvalue, pvalue, stderr) = linregress(x_values, y_values)\n",
    "    regress_values = x_values * slope + intercept\n",
    "    line_eq = \"y = \" + str(round(slope,2)) + \"x + \" + str(round(intercept,2))\n",
    "\n",
    "    # Plot\n",
    "    plt.scatter(x_values,y_values)\n",
    "    plt.plot(x_values,regress_values,\"r-\")\n",
    "    plt.annotate(line_eq,text_coordinates,fontsize=15,color=\"red\")\n",
    "    plt.xlabel(\"Latitude\")\n",
    "    plt.ylabel(title)\n",
    "    print(f\"The r-value is: {rvalue**2}\")\n",
    "    plt.show()"
   ]
  },
  {
   "cell_type": "code",
   "execution_count": null,
   "metadata": {},
   "outputs": [],
   "source": [
    "# Create Northern Hemisphere data (Latitude >= 0)\n",
    "northern_hemi_df = city_data_df.loc[(city_data_df[\"Lat\"] >= 0),:]\n",
    "\n",
    "northern_hemi_df.head()"
   ]
  },
  {
   "cell_type": "code",
   "execution_count": null,
   "metadata": {},
   "outputs": [],
   "source": [
    "# Southern Hemisphere data (Latitude < 0)\n",
    "southern_hemi_df = city_data_df.loc[(city_data_df[\"Lat\"] < 0),:]\n",
    "\n",
    "southern_hemi_df.head()"
   ]
  },
  {
   "cell_type": "code",
   "execution_count": null,
   "metadata": {},
   "outputs": [],
   "source": [
    "# Linear regression on Northern Hemisphere\n",
    "x_values = northern_hemi_df[\"Lat\"]\n",
    "y_values = northern_hemi_df[\"Max Temp\"]\n",
    "plot_linear_regression(x_values, y_values, \"Max Temp\", (6,-10))"
   ]
  },
  {
   "cell_type": "code",
   "execution_count": null,
   "metadata": {},
   "outputs": [],
   "source": [
    "# Linear regression on Southern Hemisphere\n",
    "x_values = southern_hemi_df[\"Lat\"]\n",
    "y_values = southern_hemi_df[\"Max Temp\"]\n",
    "plot_linear_regression(x_values, y_values, \"Max Temp\", (-55, 35))"
   ]
  },
  {
   "cell_type": "code",
   "execution_count": null,
   "metadata": {},
   "outputs": [],
   "source": [
    "# Northern Hemisphere\n",
    "x_values = northern_hemi_df[\"Lat\"]\n",
    "y_values = northern_hemi_df[\"Humidity\"]\n",
    "plot_linear_regression(x_values, y_values, \"Humidity\",(40,10))"
   ]
  },
  {
   "cell_type": "code",
   "execution_count": null,
   "metadata": {},
   "outputs": [],
   "source": [
    "# Southern Hemisphere\n",
    "x_values = southern_hemi_df[\"Lat\"]\n",
    "y_values = southern_hemi_df[\"Humidity\"]\n",
    "plot_linear_regression(x_values, y_values, \"Humidity\", (-50, 20))"
   ]
  },
  {
   "cell_type": "code",
   "execution_count": null,
   "metadata": {},
   "outputs": [],
   "source": [
    "# Northern Hemisphere\n",
    "x_values = northern_hemi_df[\"Lat\"]\n",
    "y_values = northern_hemi_df[\"Cloudiness\"]\n",
    "plot_linear_regression(x_values, y_values, \"Cloudiness\", (40,10))"
   ]
  },
  {
   "cell_type": "code",
   "execution_count": null,
   "metadata": {},
   "outputs": [],
   "source": [
    "# Southern Hemisphere\n",
    "x_values = southern_hemi_df[\"Lat\"]\n",
    "y_values = southern_hemi_df[\"Cloudiness\"]\n",
    "plot_linear_regression(x_values, y_values, \"Cloudiness\", (-30,30))"
   ]
  },
  {
   "cell_type": "code",
   "execution_count": null,
   "metadata": {},
   "outputs": [],
   "source": [
    "# Northern Hemisphere\n",
    "x_values = northern_hemi_df[\"Lat\"]\n",
    "y_values = northern_hemi_df[\"Wind Speed\"]\n",
    "plot_linear_regression(x_values, y_values, \"Wind Speed\", (10,12))"
   ]
  },
  {
   "cell_type": "code",
   "execution_count": null,
   "metadata": {},
   "outputs": [],
   "source": [
    "# Southern Hemisphere\n",
    "x_values = southern_hemi_df[\"Lat\"]\n",
    "y_values = southern_hemi_df[\"Wind Speed\"]\n",
    "plot_linear_regression(x_values, y_values, \"Wind Speed\", (-50, 12))"
   ]
  },
  {
   "cell_type": "code",
   "execution_count": null,
   "metadata": {},
   "outputs": [],
   "source": []
  },
  {
   "cell_type": "code",
   "execution_count": null,
   "metadata": {},
   "outputs": [],
   "source": []
  }
 ],
 "metadata": {
  "anaconda-cloud": {},
  "kernel_info": {
   "name": "python3"
  },
  "kernelspec": {
   "display_name": "Python 3 (ipykernel)",
   "language": "python",
   "name": "python3"
  },
  "language_info": {
   "codemirror_mode": {
    "name": "ipython",
    "version": 3
   },
   "file_extension": ".py",
   "mimetype": "text/x-python",
   "name": "python",
   "nbconvert_exporter": "python",
   "pygments_lexer": "ipython3",
   "version": "3.9.13"
  },
  "latex_envs": {
   "LaTeX_envs_menu_present": true,
   "autoclose": false,
   "autocomplete": true,
   "bibliofile": "biblio.bib",
   "cite_by": "apalike",
   "current_citInitial": 1,
   "eqLabelWithNumbers": true,
   "eqNumInitial": 1,
   "hotkeys": {
    "equation": "Ctrl-E",
    "itemize": "Ctrl-I"
   },
   "labels_anchors": false,
   "latex_user_defs": false,
   "report_style_numbering": false,
   "user_envs_cfg": false
  },
  "nteract": {
   "version": "0.12.3"
  }
 },
 "nbformat": 4,
 "nbformat_minor": 4
}
